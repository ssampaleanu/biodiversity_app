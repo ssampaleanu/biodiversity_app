{
 "cells": [
  {
   "cell_type": "code",
   "execution_count": 12,
   "metadata": {
    "collapsed": true
   },
   "outputs": [],
   "source": [
    "import sqlalchemy\n",
    "from sqlalchemy.ext.automap import automap_base\n",
    "from sqlalchemy.orm import Session\n",
    "from sqlalchemy import create_engine, inspect\n",
    "from sqlalchemy import Column, String, Integer, DateTime\n",
    "from sqlalchemy import or_\n",
    "from sqlalchemy import desc\n",
    "from sqlalchemy.orm import sessionmaker\n",
    "from sqlalchemy.exc import SQLAlchemyError\n",
    "from sqlalchemy.ext.declarative import declarative_base\n",
    "from sqlalchemy.engine.url import URL"
   ]
  },
  {
   "cell_type": "code",
   "execution_count": 13,
   "metadata": {},
   "outputs": [
    {
     "ename": "NameError",
     "evalue": "name 'sessionmaker' is not defined",
     "output_type": "error",
     "traceback": [
      "\u001b[1;31m---------------------------------------------------------------------------\u001b[0m",
      "\u001b[1;31mNameError\u001b[0m                                 Traceback (most recent call last)",
      "\u001b[1;32m<ipython-input-13-2b9cda7f0460>\u001b[0m in \u001b[0;36m<module>\u001b[1;34m()\u001b[0m\n\u001b[0;32m      3\u001b[0m \u001b[0mengine\u001b[0m \u001b[1;33m=\u001b[0m \u001b[0mcreate_engine\u001b[0m\u001b[1;33m(\u001b[0m\u001b[1;34m\"sqlite:///belly_button_biodiversity.sqlite\"\u001b[0m\u001b[1;33m)\u001b[0m\u001b[1;33m\u001b[0m\u001b[0m\n\u001b[0;32m      4\u001b[0m \u001b[1;33m\u001b[0m\u001b[0m\n\u001b[1;32m----> 5\u001b[1;33m \u001b[0mSession\u001b[0m \u001b[1;33m=\u001b[0m \u001b[0msessionmaker\u001b[0m\u001b[1;33m(\u001b[0m\u001b[1;33m)\u001b[0m\u001b[1;33m\u001b[0m\u001b[0m\n\u001b[0m\u001b[0;32m      6\u001b[0m \u001b[0mSession\u001b[0m\u001b[1;33m.\u001b[0m\u001b[0mconfigure\u001b[0m\u001b[1;33m(\u001b[0m\u001b[0mbind\u001b[0m\u001b[1;33m=\u001b[0m\u001b[0mengine\u001b[0m\u001b[1;33m)\u001b[0m\u001b[1;33m\u001b[0m\u001b[0m\n\u001b[0;32m      7\u001b[0m \u001b[0msession\u001b[0m \u001b[1;33m=\u001b[0m \u001b[0mSession\u001b[0m\u001b[1;33m(\u001b[0m\u001b[1;33m)\u001b[0m\u001b[1;33m\u001b[0m\u001b[0m\n",
      "\u001b[1;31mNameError\u001b[0m: name 'sessionmaker' is not defined"
     ]
    }
   ],
   "source": [
    "Base = automap_base()\n",
    "\n",
    "engine = create_engine(\"sqlite:///belly_button_biodiversity.sqlite\")\n",
    "\n",
    "Session = sessionmaker()\n",
    "Session.configure(bind=engine)\n",
    "session = Session()"
   ]
  },
  {
   "cell_type": "code",
   "execution_count": 3,
   "metadata": {},
   "outputs": [
    {
     "data": {
      "text/plain": [
       "['otu', 'samples', 'samples_metadata']"
      ]
     },
     "execution_count": 3,
     "metadata": {},
     "output_type": "execute_result"
    }
   ],
   "source": [
    "inspector = inspect(engine)\n",
    "inspector.get_table_names()"
   ]
  },
  {
   "cell_type": "code",
   "execution_count": 4,
   "metadata": {},
   "outputs": [
    {
     "name": "stdout",
     "output_type": "stream",
     "text": [
      "otu_id\n",
      "BB_940\n",
      "BB_941\n",
      "BB_943\n",
      "BB_944\n",
      "BB_945\n",
      "BB_946\n",
      "BB_947\n",
      "BB_948\n",
      "BB_949\n",
      "BB_950\n",
      "BB_952\n",
      "BB_953\n",
      "BB_954\n",
      "BB_955\n",
      "BB_956\n",
      "BB_958\n",
      "BB_959\n",
      "BB_960\n",
      "BB_961\n",
      "BB_962\n",
      "BB_963\n",
      "BB_964\n",
      "BB_966\n",
      "BB_967\n",
      "BB_968\n",
      "BB_969\n",
      "BB_970\n",
      "BB_971\n",
      "BB_972\n",
      "BB_973\n",
      "BB_974\n",
      "BB_975\n",
      "BB_978\n",
      "BB_1233\n",
      "BB_1234\n",
      "BB_1235\n",
      "BB_1236\n",
      "BB_1237\n",
      "BB_1238\n",
      "BB_1242\n",
      "BB_1243\n",
      "BB_1246\n",
      "BB_1253\n",
      "BB_1254\n",
      "BB_1258\n",
      "BB_1259\n",
      "BB_1260\n",
      "BB_1264\n",
      "BB_1265\n",
      "BB_1273\n",
      "BB_1275\n",
      "BB_1276\n",
      "BB_1277\n",
      "BB_1278\n",
      "BB_1279\n",
      "BB_1280\n",
      "BB_1281\n",
      "BB_1282\n",
      "BB_1283\n",
      "BB_1284\n",
      "BB_1285\n",
      "BB_1286\n",
      "BB_1287\n",
      "BB_1288\n",
      "BB_1289\n",
      "BB_1290\n",
      "BB_1291\n",
      "BB_1292\n",
      "BB_1293\n",
      "BB_1294\n",
      "BB_1295\n",
      "BB_1296\n",
      "BB_1297\n",
      "BB_1298\n",
      "BB_1308\n",
      "BB_1309\n",
      "BB_1310\n",
      "BB_1374\n",
      "BB_1415\n",
      "BB_1439\n",
      "BB_1441\n",
      "BB_1443\n",
      "BB_1486\n",
      "BB_1487\n",
      "BB_1489\n",
      "BB_1490\n",
      "BB_1491\n",
      "BB_1494\n",
      "BB_1495\n",
      "BB_1497\n",
      "BB_1499\n",
      "BB_1500\n",
      "BB_1501\n",
      "BB_1502\n",
      "BB_1503\n",
      "BB_1504\n",
      "BB_1505\n",
      "BB_1506\n",
      "BB_1507\n",
      "BB_1508\n",
      "BB_1510\n",
      "BB_1511\n",
      "BB_1512\n",
      "BB_1513\n",
      "BB_1514\n",
      "BB_1515\n",
      "BB_1516\n",
      "BB_1517\n",
      "BB_1518\n",
      "BB_1519\n",
      "BB_1521\n",
      "BB_1524\n",
      "BB_1526\n",
      "BB_1527\n",
      "BB_1530\n",
      "BB_1531\n",
      "BB_1532\n",
      "BB_1533\n",
      "BB_1534\n",
      "BB_1535\n",
      "BB_1536\n",
      "BB_1537\n",
      "BB_1539\n",
      "BB_1540\n",
      "BB_1541\n",
      "BB_1542\n",
      "BB_1543\n",
      "BB_1544\n",
      "BB_1545\n",
      "BB_1546\n",
      "BB_1547\n",
      "BB_1548\n",
      "BB_1549\n",
      "BB_1550\n",
      "BB_1551\n",
      "BB_1552\n",
      "BB_1553\n",
      "BB_1554\n",
      "BB_1555\n",
      "BB_1556\n",
      "BB_1557\n",
      "BB_1558\n",
      "BB_1561\n",
      "BB_1562\n",
      "BB_1563\n",
      "BB_1564\n",
      "BB_1572\n",
      "BB_1573\n",
      "BB_1574\n",
      "BB_1576\n",
      "BB_1577\n",
      "BB_1581\n",
      "BB_1601\n"
     ]
    }
   ],
   "source": [
    "columns = inspector.get_columns('samples')\n",
    "\n",
    "for column in columns:\n",
    "    print(column['name'])"
   ]
  },
  {
   "cell_type": "code",
   "execution_count": 5,
   "metadata": {},
   "outputs": [
    {
     "name": "stdout",
     "output_type": "stream",
     "text": [
      "otu_id\n",
      "lowest_taxonomic_unit_found\n"
     ]
    }
   ],
   "source": [
    "columns = inspector.get_columns('otu')\n",
    "for column in columns:\n",
    "    print(column['name'])"
   ]
  },
  {
   "cell_type": "code",
   "execution_count": 10,
   "metadata": {},
   "outputs": [
    {
     "ename": "NameError",
     "evalue": "name 'session' is not defined",
     "output_type": "error",
     "traceback": [
      "\u001b[1;31m---------------------------------------------------------------------------\u001b[0m",
      "\u001b[1;31mNameError\u001b[0m                                 Traceback (most recent call last)",
      "\u001b[1;32m<ipython-input-10-9ec6ecccd0aa>\u001b[0m in \u001b[0;36m<module>\u001b[1;34m()\u001b[0m\n\u001b[1;32m----> 1\u001b[1;33m \u001b[0motu\u001b[0m \u001b[1;33m=\u001b[0m \u001b[0msession\u001b[0m\u001b[1;33m.\u001b[0m\u001b[0mquery\u001b[0m\u001b[1;33m(\u001b[0m\u001b[1;34m'otu'\u001b[0m\u001b[1;33m)\u001b[0m\u001b[1;33m\u001b[0m\u001b[0m\n\u001b[0m",
      "\u001b[1;31mNameError\u001b[0m: name 'session' is not defined"
     ]
    }
   ],
   "source": [
    "otu = session.query('otu')"
   ]
  },
  {
   "cell_type": "code",
   "execution_count": null,
   "metadata": {
    "collapsed": true
   },
   "outputs": [],
   "source": []
  }
 ],
 "metadata": {
  "kernelspec": {
   "display_name": "Python 3",
   "language": "python",
   "name": "python3"
  },
  "language_info": {
   "codemirror_mode": {
    "name": "ipython",
    "version": 3
   },
   "file_extension": ".py",
   "mimetype": "text/x-python",
   "name": "python",
   "nbconvert_exporter": "python",
   "pygments_lexer": "ipython3",
   "version": "3.6.3"
  }
 },
 "nbformat": 4,
 "nbformat_minor": 2
}
